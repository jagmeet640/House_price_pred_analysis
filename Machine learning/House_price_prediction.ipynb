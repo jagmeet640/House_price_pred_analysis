{
 "cells": [
  {
   "cell_type": "markdown",
   "id": "857787b8",
   "metadata": {},
   "source": [
    "# IMPORTING RELEVANT LIBRARIES"
   ]
  },
  {
   "cell_type": "code",
   "execution_count": 20,
   "id": "0d83ce77",
   "metadata": {},
   "outputs": [],
   "source": [
    "import seaborn as sns\n",
    "import numpy as np \n",
    "import matplotlib.pyplot as plt\n",
    "import sklearn \n",
    "import tensorflow as tf\n",
    "import pandas as pd\n",
    "from sklearn.model_selection import train_test_split\n",
    "from sklearn.preprocessing import StandardScaler\n",
    "from tensorflow import keras\n",
    "from keras.models import Sequential\n",
    "from keras.layers import Dense\n",
    "from keras.layers import Dropout\n",
    "from sklearn.metrics import classification_report\n",
    "from sklearn.metrics import mean_absolute_error, mean_squared_error, r2_score\n",
    "from sklearn.linear_model import LinearRegression"
   ]
  },
  {
   "cell_type": "code",
   "execution_count": 2,
   "id": "8cfd8aa0",
   "metadata": {},
   "outputs": [],
   "source": [
    "data = pd.read_csv('Data/train.csv')\n",
    "df = pd.DataFrame(data)"
   ]
  },
  {
   "cell_type": "code",
   "execution_count": 3,
   "id": "2aacfae5",
   "metadata": {},
   "outputs": [
    {
     "data": {
      "text/html": [
       "<div>\n",
       "<style scoped>\n",
       "    .dataframe tbody tr th:only-of-type {\n",
       "        vertical-align: middle;\n",
       "    }\n",
       "\n",
       "    .dataframe tbody tr th {\n",
       "        vertical-align: top;\n",
       "    }\n",
       "\n",
       "    .dataframe thead th {\n",
       "        text-align: right;\n",
       "    }\n",
       "</style>\n",
       "<table border=\"1\" class=\"dataframe\">\n",
       "  <thead>\n",
       "    <tr style=\"text-align: right;\">\n",
       "      <th></th>\n",
       "      <th>Id</th>\n",
       "      <th>MSSubClass</th>\n",
       "      <th>MSZoning</th>\n",
       "      <th>LotFrontage</th>\n",
       "      <th>LotArea</th>\n",
       "      <th>Street</th>\n",
       "      <th>Alley</th>\n",
       "      <th>LotShape</th>\n",
       "      <th>LandContour</th>\n",
       "      <th>Utilities</th>\n",
       "      <th>...</th>\n",
       "      <th>PoolArea</th>\n",
       "      <th>PoolQC</th>\n",
       "      <th>Fence</th>\n",
       "      <th>MiscFeature</th>\n",
       "      <th>MiscVal</th>\n",
       "      <th>MoSold</th>\n",
       "      <th>YrSold</th>\n",
       "      <th>SaleType</th>\n",
       "      <th>SaleCondition</th>\n",
       "      <th>SalePrice</th>\n",
       "    </tr>\n",
       "  </thead>\n",
       "  <tbody>\n",
       "    <tr>\n",
       "      <th>0</th>\n",
       "      <td>1</td>\n",
       "      <td>60</td>\n",
       "      <td>RL</td>\n",
       "      <td>65.0</td>\n",
       "      <td>8450</td>\n",
       "      <td>Pave</td>\n",
       "      <td>NaN</td>\n",
       "      <td>Reg</td>\n",
       "      <td>Lvl</td>\n",
       "      <td>AllPub</td>\n",
       "      <td>...</td>\n",
       "      <td>0</td>\n",
       "      <td>NaN</td>\n",
       "      <td>NaN</td>\n",
       "      <td>NaN</td>\n",
       "      <td>0</td>\n",
       "      <td>2</td>\n",
       "      <td>2008</td>\n",
       "      <td>WD</td>\n",
       "      <td>Normal</td>\n",
       "      <td>208500</td>\n",
       "    </tr>\n",
       "    <tr>\n",
       "      <th>1</th>\n",
       "      <td>2</td>\n",
       "      <td>20</td>\n",
       "      <td>RL</td>\n",
       "      <td>80.0</td>\n",
       "      <td>9600</td>\n",
       "      <td>Pave</td>\n",
       "      <td>NaN</td>\n",
       "      <td>Reg</td>\n",
       "      <td>Lvl</td>\n",
       "      <td>AllPub</td>\n",
       "      <td>...</td>\n",
       "      <td>0</td>\n",
       "      <td>NaN</td>\n",
       "      <td>NaN</td>\n",
       "      <td>NaN</td>\n",
       "      <td>0</td>\n",
       "      <td>5</td>\n",
       "      <td>2007</td>\n",
       "      <td>WD</td>\n",
       "      <td>Normal</td>\n",
       "      <td>181500</td>\n",
       "    </tr>\n",
       "    <tr>\n",
       "      <th>2</th>\n",
       "      <td>3</td>\n",
       "      <td>60</td>\n",
       "      <td>RL</td>\n",
       "      <td>68.0</td>\n",
       "      <td>11250</td>\n",
       "      <td>Pave</td>\n",
       "      <td>NaN</td>\n",
       "      <td>IR1</td>\n",
       "      <td>Lvl</td>\n",
       "      <td>AllPub</td>\n",
       "      <td>...</td>\n",
       "      <td>0</td>\n",
       "      <td>NaN</td>\n",
       "      <td>NaN</td>\n",
       "      <td>NaN</td>\n",
       "      <td>0</td>\n",
       "      <td>9</td>\n",
       "      <td>2008</td>\n",
       "      <td>WD</td>\n",
       "      <td>Normal</td>\n",
       "      <td>223500</td>\n",
       "    </tr>\n",
       "    <tr>\n",
       "      <th>3</th>\n",
       "      <td>4</td>\n",
       "      <td>70</td>\n",
       "      <td>RL</td>\n",
       "      <td>60.0</td>\n",
       "      <td>9550</td>\n",
       "      <td>Pave</td>\n",
       "      <td>NaN</td>\n",
       "      <td>IR1</td>\n",
       "      <td>Lvl</td>\n",
       "      <td>AllPub</td>\n",
       "      <td>...</td>\n",
       "      <td>0</td>\n",
       "      <td>NaN</td>\n",
       "      <td>NaN</td>\n",
       "      <td>NaN</td>\n",
       "      <td>0</td>\n",
       "      <td>2</td>\n",
       "      <td>2006</td>\n",
       "      <td>WD</td>\n",
       "      <td>Abnorml</td>\n",
       "      <td>140000</td>\n",
       "    </tr>\n",
       "    <tr>\n",
       "      <th>4</th>\n",
       "      <td>5</td>\n",
       "      <td>60</td>\n",
       "      <td>RL</td>\n",
       "      <td>84.0</td>\n",
       "      <td>14260</td>\n",
       "      <td>Pave</td>\n",
       "      <td>NaN</td>\n",
       "      <td>IR1</td>\n",
       "      <td>Lvl</td>\n",
       "      <td>AllPub</td>\n",
       "      <td>...</td>\n",
       "      <td>0</td>\n",
       "      <td>NaN</td>\n",
       "      <td>NaN</td>\n",
       "      <td>NaN</td>\n",
       "      <td>0</td>\n",
       "      <td>12</td>\n",
       "      <td>2008</td>\n",
       "      <td>WD</td>\n",
       "      <td>Normal</td>\n",
       "      <td>250000</td>\n",
       "    </tr>\n",
       "  </tbody>\n",
       "</table>\n",
       "<p>5 rows × 81 columns</p>\n",
       "</div>"
      ],
      "text/plain": [
       "   Id  MSSubClass MSZoning  LotFrontage  LotArea Street Alley LotShape  \\\n",
       "0   1          60       RL         65.0     8450   Pave   NaN      Reg   \n",
       "1   2          20       RL         80.0     9600   Pave   NaN      Reg   \n",
       "2   3          60       RL         68.0    11250   Pave   NaN      IR1   \n",
       "3   4          70       RL         60.0     9550   Pave   NaN      IR1   \n",
       "4   5          60       RL         84.0    14260   Pave   NaN      IR1   \n",
       "\n",
       "  LandContour Utilities  ... PoolArea PoolQC Fence MiscFeature MiscVal MoSold  \\\n",
       "0         Lvl    AllPub  ...        0    NaN   NaN         NaN       0      2   \n",
       "1         Lvl    AllPub  ...        0    NaN   NaN         NaN       0      5   \n",
       "2         Lvl    AllPub  ...        0    NaN   NaN         NaN       0      9   \n",
       "3         Lvl    AllPub  ...        0    NaN   NaN         NaN       0      2   \n",
       "4         Lvl    AllPub  ...        0    NaN   NaN         NaN       0     12   \n",
       "\n",
       "  YrSold  SaleType  SaleCondition  SalePrice  \n",
       "0   2008        WD         Normal     208500  \n",
       "1   2007        WD         Normal     181500  \n",
       "2   2008        WD         Normal     223500  \n",
       "3   2006        WD        Abnorml     140000  \n",
       "4   2008        WD         Normal     250000  \n",
       "\n",
       "[5 rows x 81 columns]"
      ]
     },
     "execution_count": 3,
     "metadata": {},
     "output_type": "execute_result"
    }
   ],
   "source": [
    "data.head()"
   ]
  },
  {
   "cell_type": "code",
   "execution_count": 4,
   "id": "b0a40d24",
   "metadata": {},
   "outputs": [
    {
     "data": {
      "text/html": [
       "<div>\n",
       "<style scoped>\n",
       "    .dataframe tbody tr th:only-of-type {\n",
       "        vertical-align: middle;\n",
       "    }\n",
       "\n",
       "    .dataframe tbody tr th {\n",
       "        vertical-align: top;\n",
       "    }\n",
       "\n",
       "    .dataframe thead th {\n",
       "        text-align: right;\n",
       "    }\n",
       "</style>\n",
       "<table border=\"1\" class=\"dataframe\">\n",
       "  <thead>\n",
       "    <tr style=\"text-align: right;\">\n",
       "      <th></th>\n",
       "      <th>OverallQual</th>\n",
       "      <th>YearBuilt</th>\n",
       "      <th>YearRemodAdd</th>\n",
       "      <th>MasVnrArea</th>\n",
       "      <th>TotalBsmtSF</th>\n",
       "      <th>GrLivArea</th>\n",
       "      <th>FullBath</th>\n",
       "      <th>KitchenAbvGr</th>\n",
       "      <th>TotRmsAbvGrd</th>\n",
       "      <th>Fireplaces</th>\n",
       "      <th>GarageYrBlt</th>\n",
       "      <th>GarageCars</th>\n",
       "      <th>GarageArea</th>\n",
       "      <th>SalePrice</th>\n",
       "    </tr>\n",
       "  </thead>\n",
       "  <tbody>\n",
       "    <tr>\n",
       "      <th>0</th>\n",
       "      <td>7</td>\n",
       "      <td>2003</td>\n",
       "      <td>2003</td>\n",
       "      <td>196.0</td>\n",
       "      <td>856</td>\n",
       "      <td>1710</td>\n",
       "      <td>2</td>\n",
       "      <td>1</td>\n",
       "      <td>8</td>\n",
       "      <td>0</td>\n",
       "      <td>2003.0</td>\n",
       "      <td>2</td>\n",
       "      <td>548</td>\n",
       "      <td>208500</td>\n",
       "    </tr>\n",
       "    <tr>\n",
       "      <th>1</th>\n",
       "      <td>6</td>\n",
       "      <td>1976</td>\n",
       "      <td>1976</td>\n",
       "      <td>0.0</td>\n",
       "      <td>1262</td>\n",
       "      <td>1262</td>\n",
       "      <td>2</td>\n",
       "      <td>1</td>\n",
       "      <td>6</td>\n",
       "      <td>1</td>\n",
       "      <td>1976.0</td>\n",
       "      <td>2</td>\n",
       "      <td>460</td>\n",
       "      <td>181500</td>\n",
       "    </tr>\n",
       "    <tr>\n",
       "      <th>2</th>\n",
       "      <td>7</td>\n",
       "      <td>2001</td>\n",
       "      <td>2002</td>\n",
       "      <td>162.0</td>\n",
       "      <td>920</td>\n",
       "      <td>1786</td>\n",
       "      <td>2</td>\n",
       "      <td>1</td>\n",
       "      <td>6</td>\n",
       "      <td>1</td>\n",
       "      <td>2001.0</td>\n",
       "      <td>2</td>\n",
       "      <td>608</td>\n",
       "      <td>223500</td>\n",
       "    </tr>\n",
       "    <tr>\n",
       "      <th>3</th>\n",
       "      <td>7</td>\n",
       "      <td>1915</td>\n",
       "      <td>1970</td>\n",
       "      <td>0.0</td>\n",
       "      <td>756</td>\n",
       "      <td>1717</td>\n",
       "      <td>1</td>\n",
       "      <td>1</td>\n",
       "      <td>7</td>\n",
       "      <td>1</td>\n",
       "      <td>1998.0</td>\n",
       "      <td>3</td>\n",
       "      <td>642</td>\n",
       "      <td>140000</td>\n",
       "    </tr>\n",
       "    <tr>\n",
       "      <th>4</th>\n",
       "      <td>8</td>\n",
       "      <td>2000</td>\n",
       "      <td>2000</td>\n",
       "      <td>350.0</td>\n",
       "      <td>1145</td>\n",
       "      <td>2198</td>\n",
       "      <td>2</td>\n",
       "      <td>1</td>\n",
       "      <td>9</td>\n",
       "      <td>1</td>\n",
       "      <td>2000.0</td>\n",
       "      <td>3</td>\n",
       "      <td>836</td>\n",
       "      <td>250000</td>\n",
       "    </tr>\n",
       "  </tbody>\n",
       "</table>\n",
       "</div>"
      ],
      "text/plain": [
       "   OverallQual  YearBuilt  YearRemodAdd  MasVnrArea  TotalBsmtSF  GrLivArea  \\\n",
       "0            7       2003          2003       196.0          856       1710   \n",
       "1            6       1976          1976         0.0         1262       1262   \n",
       "2            7       2001          2002       162.0          920       1786   \n",
       "3            7       1915          1970         0.0          756       1717   \n",
       "4            8       2000          2000       350.0         1145       2198   \n",
       "\n",
       "   FullBath  KitchenAbvGr  TotRmsAbvGrd  Fireplaces  GarageYrBlt  GarageCars  \\\n",
       "0         2             1             8           0       2003.0           2   \n",
       "1         2             1             6           1       1976.0           2   \n",
       "2         2             1             6           1       2001.0           2   \n",
       "3         1             1             7           1       1998.0           3   \n",
       "4         2             1             9           1       2000.0           3   \n",
       "\n",
       "   GarageArea  SalePrice  \n",
       "0         548     208500  \n",
       "1         460     181500  \n",
       "2         608     223500  \n",
       "3         642     140000  \n",
       "4         836     250000  "
      ]
     },
     "execution_count": 4,
     "metadata": {},
     "output_type": "execute_result"
    }
   ],
   "source": [
    "# using the info from the EDA done to\n",
    "# the data set we will keep only the relevant features for training the machine learning algorithms \n",
    "# Hightly corelated features according to the EDA done\n",
    "# OverallQual, YearBuilt, YearRemodAdd, MasVnrArea, TotalBsmtSF, GrLivArea, FullBath, KitchenAbvGr, TotRmsAbvGrd\n",
    "# ,FirePlaces, GerageYrBlt, GerageCars, GerageArea\n",
    "\n",
    "selected_cols = [  'OverallQual', 'YearBuilt', 'YearRemodAdd', 'MasVnrArea', 'TotalBsmtSF', 'GrLivArea', 'FullBath', 'KitchenAbvGr', 'TotRmsAbvGrd'\n",
    ",'Fireplaces', 'GarageYrBlt', 'GarageCars', 'GarageArea', 'SalePrice' ]\n",
    "\n",
    "df = df.drop(columns=[col for col in df.columns if col not in selected_cols])\n",
    "df.head()"
   ]
  },
  {
   "cell_type": "code",
   "execution_count": 5,
   "id": "ebbaae1f",
   "metadata": {},
   "outputs": [
    {
     "name": "stderr",
     "output_type": "stream",
     "text": [
      "C:\\Users\\jagme\\AppData\\Local\\Temp\\ipykernel_19596\\2375988879.py:2: FutureWarning: The default value of numeric_only in DataFrame.mean is deprecated. In a future version, it will default to False. In addition, specifying 'numeric_only=None' is deprecated. Select only valid columns or specify the value of numeric_only to silence this warning.\n",
      "  df = df.fillna(data.mean())\n"
     ]
    }
   ],
   "source": [
    "# replacing any NaN values with the mean of the data\n",
    "df = df.fillna(data.mean())"
   ]
  },
  {
   "cell_type": "code",
   "execution_count": 6,
   "id": "c4f61d37",
   "metadata": {},
   "outputs": [],
   "source": [
    "# spliting the exsisting dataframe into X and y ie features and output dataframes\n",
    "\n",
    "X = df.drop(columns = ['SalePrice'])\n",
    "Y = df['SalePrice']"
   ]
  },
  {
   "cell_type": "code",
   "execution_count": 7,
   "id": "63f3a102",
   "metadata": {},
   "outputs": [
    {
     "name": "stdout",
     "output_type": "stream",
     "text": [
      "X shape : (1460, 13)\n",
      "Y shape : (1460,)\n"
     ]
    }
   ],
   "source": [
    "print('X shape :', X.shape)\n",
    "print('Y shape :', Y.shape)"
   ]
  },
  {
   "cell_type": "code",
   "execution_count": 8,
   "id": "d3282743",
   "metadata": {},
   "outputs": [],
   "source": [
    "x_train, x_test, y_train, y_test = train_test_split(X, Y, test_size = 0.2, shuffle= True, random_state = 42)"
   ]
  },
  {
   "cell_type": "code",
   "execution_count": 9,
   "id": "eb7703f5",
   "metadata": {},
   "outputs": [
    {
     "name": "stdout",
     "output_type": "stream",
     "text": [
      "      OverallQual  YearBuilt  YearRemodAdd  MasVnrArea  TotalBsmtSF  \\\n",
      "254             5       1957          1957         0.0         1314   \n",
      "1066            6       1993          1994         0.0          799   \n",
      "638             5       1910          1950         0.0          796   \n",
      "799             5       1937          1950       252.0          731   \n",
      "380             5       1924          1950         0.0         1026   \n",
      "\n",
      "      GrLivArea  FullBath  KitchenAbvGr  TotRmsAbvGrd  Fireplaces  \\\n",
      "254        1314         1             1             5           0   \n",
      "1066       1571         2             1             7           1   \n",
      "638         796         1             1             4           0   \n",
      "799        1768         1             1             7           2   \n",
      "380        1691         2             1             6           1   \n",
      "\n",
      "      GarageYrBlt  GarageCars  GarageArea  \n",
      "254   1957.000000           1         294  \n",
      "1066  1993.000000           2         380  \n",
      "638   1978.506164           0           0  \n",
      "799   1939.000000           1         240  \n",
      "380   1924.000000           1         308  \n",
      "254     145000\n",
      "1066    178000\n",
      "638      85000\n",
      "799     175000\n",
      "380     127000\n",
      "Name: SalePrice, dtype: int64\n"
     ]
    }
   ],
   "source": [
    "print(x_train.head())\n",
    "print(y_train.head())"
   ]
  },
  {
   "cell_type": "code",
   "execution_count": 10,
   "id": "f0a49a00",
   "metadata": {
    "scrolled": true
   },
   "outputs": [
    {
     "name": "stdout",
     "output_type": "stream",
     "text": [
      "X_train shape : 13\n",
      "Y_train shape : (1168,)\n"
     ]
    }
   ],
   "source": [
    "print('X_train shape :', x_train.shape[1])\n",
    "print('Y_train shape :', y_train.shape)"
   ]
  },
  {
   "cell_type": "markdown",
   "id": "c8fd7e54",
   "metadata": {},
   "source": [
    "# NN based model"
   ]
  },
  {
   "cell_type": "code",
   "execution_count": 11,
   "id": "3a63f84d",
   "metadata": {
    "scrolled": true
   },
   "outputs": [],
   "source": [
    "if x_train.isnull().values.any() or x_test.isnull().values.any() or y_train.isnull().values.any():\n",
    "    raise ValueError(\"Input data contains NaN values.\")"
   ]
  },
  {
   "cell_type": "code",
   "execution_count": 12,
   "id": "cf509e5c",
   "metadata": {},
   "outputs": [],
   "source": [
    "# processing the data using standard scalar from sklearn\n",
    "scaler = StandardScaler()\n",
    "X_train = scaler.fit_transform(x_train)\n",
    "X_test = scaler.transform(x_test)"
   ]
  },
  {
   "cell_type": "code",
   "execution_count": 13,
   "id": "79392f7f",
   "metadata": {
    "scrolled": true
   },
   "outputs": [
    {
     "name": "stdout",
     "output_type": "stream",
     "text": [
      "[[-0.08893368 -0.25978931  0.87347031 ... -0.65139094 -1.05654384\n",
      "  -1.00601401]\n",
      " [ 1.37408806  0.75122223  0.48746451 ...  0.6386082   0.29509165\n",
      "   1.11715856]\n",
      " [-0.82044456 -1.43386723 -1.6838181  ... -2.14945444  0.29509165\n",
      "  -0.55104846]\n",
      " ...\n",
      " [ 0.64257719  1.10996826  0.96997176 ...  1.09634982  0.29509165\n",
      "  -0.31408723]\n",
      " [-1.55195543 -1.00989465 -1.6838181  ... -1.60848707 -1.05654384\n",
      "  -0.85435882]\n",
      " [-1.55195543 -0.03149638 -0.71880361 ...  0.6386082   0.29509165\n",
      "  -0.06290834]]\n"
     ]
    }
   ],
   "source": [
    "print(X_test)"
   ]
  },
  {
   "cell_type": "code",
   "execution_count": 14,
   "id": "65f0a873",
   "metadata": {
    "scrolled": true
   },
   "outputs": [],
   "source": [
    "NN_Model = Sequential()\n",
    "\n",
    "# The first layer with the input layer\n",
    "NN_Model.add(Dense(128, activation = 'relu', input_shape = [X_train.shape[1]]))\n",
    "# Hidden layer 1\n",
    "NN_Model.add(Dense(64, activation = 'relu'))\n",
    "NN_Model.add(Dropout(0.2))\n",
    "# Hidden layer 2\n",
    "NN_Model.add(Dense(32, activation = 'relu'))\n",
    "NN_Model.add(Dropout(0.2))\n",
    "# Hidden layer 3\n",
    "NN_Model.add(Dense(16, activation = 'relu'))\n",
    "NN_Model.add(Dropout(0.2))\n",
    "# Output layer\n",
    "NN_Model.add(Dense(1))\n"
   ]
  },
  {
   "cell_type": "code",
   "execution_count": 15,
   "id": "9e2195fb",
   "metadata": {},
   "outputs": [],
   "source": [
    "NN_Model.compile(loss=tf.keras.losses.mae, optimizer='adam', metrics = ['mae'])"
   ]
  },
  {
   "cell_type": "code",
   "execution_count": 16,
   "id": "e9b8904d",
   "metadata": {
    "scrolled": true
   },
   "outputs": [
    {
     "name": "stdout",
     "output_type": "stream",
     "text": [
      "Epoch 1/100\n",
      "37/37 [==============================] - 4s 8ms/step - loss: 181435.3438 - mae: 181435.3438\n",
      "Epoch 2/100\n",
      "37/37 [==============================] - 0s 8ms/step - loss: 181329.2344 - mae: 181329.2344\n",
      "Epoch 3/100\n",
      "37/37 [==============================] - 0s 6ms/step - loss: 180297.0469 - mae: 180297.0469\n",
      "Epoch 4/100\n",
      "37/37 [==============================] - 0s 6ms/step - loss: 174364.5625 - mae: 174364.5625\n",
      "Epoch 5/100\n",
      "37/37 [==============================] - 0s 6ms/step - loss: 153167.2344 - mae: 153167.2344\n",
      "Epoch 6/100\n",
      "37/37 [==============================] - 0s 6ms/step - loss: 111090.8594 - mae: 111090.8594\n",
      "Epoch 7/100\n",
      "37/37 [==============================] - 0s 7ms/step - loss: 75021.7500 - mae: 75021.7500\n",
      "Epoch 8/100\n",
      "37/37 [==============================] - 0s 7ms/step - loss: 68461.1719 - mae: 68461.1719\n",
      "Epoch 9/100\n",
      "37/37 [==============================] - 0s 8ms/step - loss: 65412.7617 - mae: 65412.7617\n",
      "Epoch 10/100\n",
      "37/37 [==============================] - 0s 8ms/step - loss: 62485.3164 - mae: 62485.3164\n",
      "Epoch 11/100\n",
      "37/37 [==============================] - 0s 7ms/step - loss: 59264.0977 - mae: 59264.0977\n",
      "Epoch 12/100\n",
      "37/37 [==============================] - 0s 7ms/step - loss: 57308.5234 - mae: 57308.5234\n",
      "Epoch 13/100\n",
      "37/37 [==============================] - 0s 6ms/step - loss: 55547.6680 - mae: 55547.6680\n",
      "Epoch 14/100\n",
      "37/37 [==============================] - 0s 7ms/step - loss: 52802.7383 - mae: 52802.7383\n",
      "Epoch 15/100\n",
      "37/37 [==============================] - 0s 7ms/step - loss: 51683.9219 - mae: 51683.9219\n",
      "Epoch 16/100\n",
      "37/37 [==============================] - 0s 6ms/step - loss: 48162.6797 - mae: 48162.6797\n",
      "Epoch 17/100\n",
      "37/37 [==============================] - 0s 8ms/step - loss: 46709.9727 - mae: 46709.9727\n",
      "Epoch 18/100\n",
      "37/37 [==============================] - 0s 8ms/step - loss: 45615.0742 - mae: 45615.0742\n",
      "Epoch 19/100\n",
      "37/37 [==============================] - 0s 8ms/step - loss: 42401.9492 - mae: 42401.9492\n",
      "Epoch 20/100\n",
      "37/37 [==============================] - 0s 8ms/step - loss: 41624.6484 - mae: 41624.6484\n",
      "Epoch 21/100\n",
      "37/37 [==============================] - 0s 8ms/step - loss: 43027.0078 - mae: 43027.0078\n",
      "Epoch 22/100\n",
      "37/37 [==============================] - 0s 8ms/step - loss: 41763.3438 - mae: 41763.3438\n",
      "Epoch 23/100\n",
      "37/37 [==============================] - 0s 7ms/step - loss: 41534.0039 - mae: 41534.0039\n",
      "Epoch 24/100\n",
      "37/37 [==============================] - 0s 7ms/step - loss: 39485.0664 - mae: 39485.0664\n",
      "Epoch 25/100\n",
      "37/37 [==============================] - 0s 9ms/step - loss: 40304.1445 - mae: 40304.1445\n",
      "Epoch 26/100\n",
      "37/37 [==============================] - 0s 9ms/step - loss: 39703.0898 - mae: 39703.0898\n",
      "Epoch 27/100\n",
      "37/37 [==============================] - 0s 12ms/step - loss: 39594.2383 - mae: 39594.2383\n",
      "Epoch 28/100\n",
      "37/37 [==============================] - 0s 8ms/step - loss: 39522.7578 - mae: 39522.7578\n",
      "Epoch 29/100\n",
      "37/37 [==============================] - 0s 8ms/step - loss: 38217.7109 - mae: 38217.7109\n",
      "Epoch 30/100\n",
      "37/37 [==============================] - 0s 7ms/step - loss: 36989.6445 - mae: 36989.6445\n",
      "Epoch 31/100\n",
      "37/37 [==============================] - 0s 8ms/step - loss: 37838.5391 - mae: 37838.5391\n",
      "Epoch 32/100\n",
      "37/37 [==============================] - 0s 8ms/step - loss: 38772.5000 - mae: 38772.5000\n",
      "Epoch 33/100\n",
      "37/37 [==============================] - 0s 7ms/step - loss: 37579.6562 - mae: 37579.6562\n",
      "Epoch 34/100\n",
      "37/37 [==============================] - 0s 7ms/step - loss: 37675.2695 - mae: 37675.2695\n",
      "Epoch 35/100\n",
      "37/37 [==============================] - 0s 8ms/step - loss: 36071.8047 - mae: 36071.8047\n",
      "Epoch 36/100\n",
      "37/37 [==============================] - 0s 7ms/step - loss: 37101.4727 - mae: 37101.4727\n",
      "Epoch 37/100\n",
      "37/37 [==============================] - 0s 7ms/step - loss: 35951.7305 - mae: 35951.7305\n",
      "Epoch 38/100\n",
      "37/37 [==============================] - 0s 7ms/step - loss: 36783.2109 - mae: 36783.2109\n",
      "Epoch 39/100\n",
      "37/37 [==============================] - 0s 8ms/step - loss: 37430.2070 - mae: 37430.2070\n",
      "Epoch 40/100\n",
      "37/37 [==============================] - 0s 8ms/step - loss: 37258.6484 - mae: 37258.6484\n",
      "Epoch 41/100\n",
      "37/37 [==============================] - 0s 8ms/step - loss: 37003.2578 - mae: 37003.2578\n",
      "Epoch 42/100\n",
      "37/37 [==============================] - 0s 8ms/step - loss: 37425.2031 - mae: 37425.2031\n",
      "Epoch 43/100\n",
      "37/37 [==============================] - 0s 8ms/step - loss: 36482.8008 - mae: 36482.8008\n",
      "Epoch 44/100\n",
      "37/37 [==============================] - 0s 8ms/step - loss: 37072.4766 - mae: 37072.4766\n",
      "Epoch 45/100\n",
      "37/37 [==============================] - 0s 7ms/step - loss: 35925.9023 - mae: 35925.9023\n",
      "Epoch 46/100\n",
      "37/37 [==============================] - 0s 7ms/step - loss: 37240.9336 - mae: 37240.9336\n",
      "Epoch 47/100\n",
      "37/37 [==============================] - 0s 8ms/step - loss: 36336.9297 - mae: 36336.9297\n",
      "Epoch 48/100\n",
      "37/37 [==============================] - 0s 7ms/step - loss: 36536.7578 - mae: 36536.7578\n",
      "Epoch 49/100\n",
      "37/37 [==============================] - 0s 7ms/step - loss: 37036.2656 - mae: 37036.2656\n",
      "Epoch 50/100\n",
      "37/37 [==============================] - 0s 8ms/step - loss: 35430.4062 - mae: 35430.4062\n",
      "Epoch 51/100\n",
      "37/37 [==============================] - 0s 9ms/step - loss: 37821.8438 - mae: 37821.8438\n",
      "Epoch 52/100\n",
      "37/37 [==============================] - 0s 7ms/step - loss: 35480.6797 - mae: 35480.6797\n",
      "Epoch 53/100\n",
      "37/37 [==============================] - 0s 7ms/step - loss: 37923.3242 - mae: 37923.3242\n",
      "Epoch 54/100\n",
      "37/37 [==============================] - 0s 7ms/step - loss: 34314.8438 - mae: 34314.8438\n",
      "Epoch 55/100\n",
      "37/37 [==============================] - 0s 7ms/step - loss: 35895.8359 - mae: 35895.8359\n",
      "Epoch 56/100\n",
      "37/37 [==============================] - 0s 7ms/step - loss: 35736.8047 - mae: 35736.8047\n",
      "Epoch 57/100\n",
      "37/37 [==============================] - 0s 7ms/step - loss: 35374.8672 - mae: 35374.8672\n",
      "Epoch 58/100\n",
      "37/37 [==============================] - 0s 7ms/step - loss: 35923.4688 - mae: 35923.4688\n",
      "Epoch 59/100\n",
      "37/37 [==============================] - 0s 7ms/step - loss: 36165.4844 - mae: 36165.4844\n",
      "Epoch 60/100\n",
      "37/37 [==============================] - 0s 7ms/step - loss: 35743.9648 - mae: 35743.9648\n",
      "Epoch 61/100\n",
      "37/37 [==============================] - 0s 7ms/step - loss: 35979.5039 - mae: 35979.5039\n",
      "Epoch 62/100\n",
      "37/37 [==============================] - 0s 8ms/step - loss: 36416.6719 - mae: 36416.6719\n",
      "Epoch 63/100\n",
      "37/37 [==============================] - 0s 8ms/step - loss: 35321.1602 - mae: 35321.1602\n",
      "Epoch 64/100\n",
      "37/37 [==============================] - 0s 7ms/step - loss: 36764.1914 - mae: 36764.1914\n",
      "Epoch 65/100\n",
      "37/37 [==============================] - 0s 7ms/step - loss: 35297.7891 - mae: 35297.7891\n",
      "Epoch 66/100\n",
      "37/37 [==============================] - 0s 7ms/step - loss: 36241.3945 - mae: 36241.3945\n",
      "Epoch 67/100\n",
      "37/37 [==============================] - 0s 7ms/step - loss: 37147.2188 - mae: 37147.2188\n",
      "Epoch 68/100\n",
      "37/37 [==============================] - 0s 7ms/step - loss: 35524.5430 - mae: 35524.5430\n",
      "Epoch 69/100\n",
      "37/37 [==============================] - 0s 7ms/step - loss: 36592.3828 - mae: 36592.3828\n",
      "Epoch 70/100\n",
      "37/37 [==============================] - 0s 7ms/step - loss: 35828.1133 - mae: 35828.1133\n",
      "Epoch 71/100\n",
      "37/37 [==============================] - 0s 7ms/step - loss: 35309.3945 - mae: 35309.3945\n",
      "Epoch 72/100\n",
      "37/37 [==============================] - 0s 8ms/step - loss: 35582.5000 - mae: 35582.5000\n",
      "Epoch 73/100\n",
      "37/37 [==============================] - 0s 7ms/step - loss: 35776.7930 - mae: 35776.7930\n",
      "Epoch 74/100\n",
      "37/37 [==============================] - 0s 7ms/step - loss: 36631.9297 - mae: 36631.9297\n",
      "Epoch 75/100\n",
      "37/37 [==============================] - 0s 7ms/step - loss: 36558.7383 - mae: 36558.7383\n",
      "Epoch 76/100\n",
      "37/37 [==============================] - 0s 8ms/step - loss: 35483.9102 - mae: 35483.9102\n",
      "Epoch 77/100\n",
      "37/37 [==============================] - 0s 7ms/step - loss: 36360.6953 - mae: 36360.6953\n",
      "Epoch 78/100\n",
      "37/37 [==============================] - 0s 6ms/step - loss: 35115.0156 - mae: 35115.0156\n",
      "Epoch 79/100\n",
      "37/37 [==============================] - 0s 7ms/step - loss: 35161.0938 - mae: 35161.0938\n",
      "Epoch 80/100\n"
     ]
    },
    {
     "name": "stdout",
     "output_type": "stream",
     "text": [
      "37/37 [==============================] - 0s 6ms/step - loss: 36494.4297 - mae: 36494.4297\n",
      "Epoch 81/100\n",
      "37/37 [==============================] - 0s 7ms/step - loss: 36243.0664 - mae: 36243.0664\n",
      "Epoch 82/100\n",
      "37/37 [==============================] - 0s 6ms/step - loss: 34959.1445 - mae: 34959.1445\n",
      "Epoch 83/100\n",
      "37/37 [==============================] - 0s 6ms/step - loss: 35025.5078 - mae: 35025.5078\n",
      "Epoch 84/100\n",
      "37/37 [==============================] - 0s 7ms/step - loss: 34711.8750 - mae: 34711.8750\n",
      "Epoch 85/100\n",
      "37/37 [==============================] - 0s 6ms/step - loss: 34765.5977 - mae: 34765.5977\n",
      "Epoch 86/100\n",
      "37/37 [==============================] - 0s 7ms/step - loss: 35249.7461 - mae: 35249.7461\n",
      "Epoch 87/100\n",
      "37/37 [==============================] - 0s 5ms/step - loss: 35556.9023 - mae: 35556.9023\n",
      "Epoch 88/100\n",
      "37/37 [==============================] - 0s 6ms/step - loss: 34988.1289 - mae: 34988.1289\n",
      "Epoch 89/100\n",
      "37/37 [==============================] - 0s 8ms/step - loss: 35826.8359 - mae: 35826.8359\n",
      "Epoch 90/100\n",
      "37/37 [==============================] - 0s 6ms/step - loss: 35244.8164 - mae: 35244.8164\n",
      "Epoch 91/100\n",
      "37/37 [==============================] - 0s 7ms/step - loss: 35677.6289 - mae: 35677.6289\n",
      "Epoch 92/100\n",
      "37/37 [==============================] - 0s 7ms/step - loss: 35532.0664 - mae: 35532.0664\n",
      "Epoch 93/100\n",
      "37/37 [==============================] - 0s 7ms/step - loss: 35615.8242 - mae: 35615.8242\n",
      "Epoch 94/100\n",
      "37/37 [==============================] - 0s 6ms/step - loss: 33421.7695 - mae: 33421.7695\n",
      "Epoch 95/100\n",
      "37/37 [==============================] - 0s 7ms/step - loss: 34578.6797 - mae: 34578.6797\n",
      "Epoch 96/100\n",
      "37/37 [==============================] - 0s 7ms/step - loss: 35477.1836 - mae: 35477.1836\n",
      "Epoch 97/100\n",
      "37/37 [==============================] - 0s 6ms/step - loss: 34513.6992 - mae: 34513.6992\n",
      "Epoch 98/100\n",
      "37/37 [==============================] - 0s 9ms/step - loss: 35384.7344 - mae: 35384.7344\n",
      "Epoch 99/100\n",
      "37/37 [==============================] - 0s 7ms/step - loss: 37531.4258 - mae: 37531.4258\n",
      "Epoch 100/100\n",
      "37/37 [==============================] - 0s 7ms/step - loss: 34754.8320 - mae: 34754.8320\n"
     ]
    },
    {
     "data": {
      "text/plain": [
       "<keras.callbacks.History at 0x2bb8ffc0b80>"
      ]
     },
     "execution_count": 16,
     "metadata": {},
     "output_type": "execute_result"
    }
   ],
   "source": [
    "NN_Model.fit(X_train, y_train, batch_size = 32, epochs = 100, verbose = 1)"
   ]
  },
  {
   "cell_type": "code",
   "execution_count": 17,
   "id": "80b455c7",
   "metadata": {},
   "outputs": [],
   "source": [
    "y_pred = NN_Model.predict(X_test[:20])"
   ]
  },
  {
   "cell_type": "code",
   "execution_count": 18,
   "id": "99414b73",
   "metadata": {},
   "outputs": [
    {
     "name": "stdout",
     "output_type": "stream",
     "text": [
      "Mean Absolute error : 18165.890625\n",
      "Mean sq error : 746173104.3732421\n"
     ]
    }
   ],
   "source": [
    "mae = mean_absolute_error(y_test[:20], y_pred)\n",
    "mse = mean_squared_error(y_test[:20], y_pred)\n",
    "print(\"Mean Absolute error :\", mae)\n",
    "print(\"Mean sq error :\", mse)"
   ]
  },
  {
   "cell_type": "code",
   "execution_count": 19,
   "id": "ab9a8851",
   "metadata": {},
   "outputs": [
    {
     "name": "stdout",
     "output_type": "stream",
     "text": [
      "True price: 892     154500\n",
      "1105    325000\n",
      "413     115000\n",
      "522     159000\n",
      "1036    315500\n",
      "614      75500\n",
      "218     311500\n",
      "1160    146000\n",
      "649      84500\n",
      "887     135500\n",
      "576     145000\n",
      "1252    130000\n",
      "1061     81000\n",
      "567     214000\n",
      "1108    181000\n",
      "1113    134500\n",
      "168     183500\n",
      "1102    135000\n",
      "1120    118400\n",
      "67      226000\n",
      "Name: SalePrice, dtype: int64\n",
      "Predicted price: [134088.03  317373.7   123162.82  162463.3   291338.38   89404.04\n",
      " 220211.17  148513.48   88235.79  117410.79  129255.86  109617.984\n",
      " 136930.9   210461.02  183117.5   119985.78  198364.92  122984.97\n",
      " 128763.58  205510.86 ]\n"
     ]
    }
   ],
   "source": [
    "print(f\"True price: {y_test[:20]}\\nPredicted price: {tf.squeeze(y_pred)}\")\n"
   ]
  },
  {
   "cell_type": "markdown",
   "id": "30df99fa",
   "metadata": {},
   "source": [
    "# Linear Regression Model"
   ]
  },
  {
   "cell_type": "code",
   "execution_count": 25,
   "id": "56159486",
   "metadata": {},
   "outputs": [
    {
     "data": {
      "text/html": [
       "<style>#sk-container-id-2 {color: black;background-color: white;}#sk-container-id-2 pre{padding: 0;}#sk-container-id-2 div.sk-toggleable {background-color: white;}#sk-container-id-2 label.sk-toggleable__label {cursor: pointer;display: block;width: 100%;margin-bottom: 0;padding: 0.3em;box-sizing: border-box;text-align: center;}#sk-container-id-2 label.sk-toggleable__label-arrow:before {content: \"▸\";float: left;margin-right: 0.25em;color: #696969;}#sk-container-id-2 label.sk-toggleable__label-arrow:hover:before {color: black;}#sk-container-id-2 div.sk-estimator:hover label.sk-toggleable__label-arrow:before {color: black;}#sk-container-id-2 div.sk-toggleable__content {max-height: 0;max-width: 0;overflow: hidden;text-align: left;background-color: #f0f8ff;}#sk-container-id-2 div.sk-toggleable__content pre {margin: 0.2em;color: black;border-radius: 0.25em;background-color: #f0f8ff;}#sk-container-id-2 input.sk-toggleable__control:checked~div.sk-toggleable__content {max-height: 200px;max-width: 100%;overflow: auto;}#sk-container-id-2 input.sk-toggleable__control:checked~label.sk-toggleable__label-arrow:before {content: \"▾\";}#sk-container-id-2 div.sk-estimator input.sk-toggleable__control:checked~label.sk-toggleable__label {background-color: #d4ebff;}#sk-container-id-2 div.sk-label input.sk-toggleable__control:checked~label.sk-toggleable__label {background-color: #d4ebff;}#sk-container-id-2 input.sk-hidden--visually {border: 0;clip: rect(1px 1px 1px 1px);clip: rect(1px, 1px, 1px, 1px);height: 1px;margin: -1px;overflow: hidden;padding: 0;position: absolute;width: 1px;}#sk-container-id-2 div.sk-estimator {font-family: monospace;background-color: #f0f8ff;border: 1px dotted black;border-radius: 0.25em;box-sizing: border-box;margin-bottom: 0.5em;}#sk-container-id-2 div.sk-estimator:hover {background-color: #d4ebff;}#sk-container-id-2 div.sk-parallel-item::after {content: \"\";width: 100%;border-bottom: 1px solid gray;flex-grow: 1;}#sk-container-id-2 div.sk-label:hover label.sk-toggleable__label {background-color: #d4ebff;}#sk-container-id-2 div.sk-serial::before {content: \"\";position: absolute;border-left: 1px solid gray;box-sizing: border-box;top: 0;bottom: 0;left: 50%;z-index: 0;}#sk-container-id-2 div.sk-serial {display: flex;flex-direction: column;align-items: center;background-color: white;padding-right: 0.2em;padding-left: 0.2em;position: relative;}#sk-container-id-2 div.sk-item {position: relative;z-index: 1;}#sk-container-id-2 div.sk-parallel {display: flex;align-items: stretch;justify-content: center;background-color: white;position: relative;}#sk-container-id-2 div.sk-item::before, #sk-container-id-2 div.sk-parallel-item::before {content: \"\";position: absolute;border-left: 1px solid gray;box-sizing: border-box;top: 0;bottom: 0;left: 50%;z-index: -1;}#sk-container-id-2 div.sk-parallel-item {display: flex;flex-direction: column;z-index: 1;position: relative;background-color: white;}#sk-container-id-2 div.sk-parallel-item:first-child::after {align-self: flex-end;width: 50%;}#sk-container-id-2 div.sk-parallel-item:last-child::after {align-self: flex-start;width: 50%;}#sk-container-id-2 div.sk-parallel-item:only-child::after {width: 0;}#sk-container-id-2 div.sk-dashed-wrapped {border: 1px dashed gray;margin: 0 0.4em 0.5em 0.4em;box-sizing: border-box;padding-bottom: 0.4em;background-color: white;}#sk-container-id-2 div.sk-label label {font-family: monospace;font-weight: bold;display: inline-block;line-height: 1.2em;}#sk-container-id-2 div.sk-label-container {text-align: center;}#sk-container-id-2 div.sk-container {/* jupyter's `normalize.less` sets `[hidden] { display: none; }` but bootstrap.min.css set `[hidden] { display: none !important; }` so we also need the `!important` here to be able to override the default hidden behavior on the sphinx rendered scikit-learn.org. See: https://github.com/scikit-learn/scikit-learn/issues/21755 */display: inline-block !important;position: relative;}#sk-container-id-2 div.sk-text-repr-fallback {display: none;}</style><div id=\"sk-container-id-2\" class=\"sk-top-container\"><div class=\"sk-text-repr-fallback\"><pre>LinearRegression()</pre><b>In a Jupyter environment, please rerun this cell to show the HTML representation or trust the notebook. <br />On GitHub, the HTML representation is unable to render, please try loading this page with nbviewer.org.</b></div><div class=\"sk-container\" hidden><div class=\"sk-item\"><div class=\"sk-estimator sk-toggleable\"><input class=\"sk-toggleable__control sk-hidden--visually\" id=\"sk-estimator-id-2\" type=\"checkbox\" checked><label for=\"sk-estimator-id-2\" class=\"sk-toggleable__label sk-toggleable__label-arrow\">LinearRegression</label><div class=\"sk-toggleable__content\"><pre>LinearRegression()</pre></div></div></div></div></div>"
      ],
      "text/plain": [
       "LinearRegression()"
      ]
     },
     "execution_count": 25,
     "metadata": {},
     "output_type": "execute_result"
    }
   ],
   "source": [
    "LR_model = LinearRegression()\n",
    "\n",
    "LR_model.fit(x_train, y_train)"
   ]
  },
  {
   "cell_type": "code",
   "execution_count": 26,
   "id": "2745ba85",
   "metadata": {},
   "outputs": [],
   "source": [
    "y_pred_LR = LR_model.predict(x_test)"
   ]
  },
  {
   "cell_type": "code",
   "execution_count": 27,
   "id": "8e974944",
   "metadata": {},
   "outputs": [
    {
     "name": "stdout",
     "output_type": "stream",
     "text": [
      "mean sq error :  1468063831.2396834\n"
     ]
    }
   ],
   "source": [
    "mse_LR = mean_squared_error(y_test, y_pred_LR)\n",
    "print(\"mean sq error : \", mse_LR)"
   ]
  }
 ],
 "metadata": {
  "kernelspec": {
   "display_name": "Python 3 (ipykernel)",
   "language": "python",
   "name": "python3"
  },
  "language_info": {
   "codemirror_mode": {
    "name": "ipython",
    "version": 3
   },
   "file_extension": ".py",
   "mimetype": "text/x-python",
   "name": "python",
   "nbconvert_exporter": "python",
   "pygments_lexer": "ipython3",
   "version": "3.9.16"
  }
 },
 "nbformat": 4,
 "nbformat_minor": 5
}
